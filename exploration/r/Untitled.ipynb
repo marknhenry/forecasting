{
 "cells": [
  {
   "cell_type": "code",
   "execution_count": 35,
   "id": "ff787f64",
   "metadata": {},
   "outputs": [
    {
     "name": "stderr",
     "output_type": "stream",
     "text": [
      "also installing the dependencies ‘fable’, ‘urca’\n",
      "\n",
      "Updating HTML index of packages in '.Library'\n",
      "Making 'packages.html' ... done\n"
     ]
    }
   ],
   "source": [
    "install.packages('fpp3')"
   ]
  },
  {
   "cell_type": "code",
   "execution_count": 49,
   "id": "a7e8d5be",
   "metadata": {},
   "outputs": [
    {
     "name": "stderr",
     "output_type": "stream",
     "text": [
      "── Attaching packages ─────────────────────────────────────────────────────────────────────────────────────────────────────── fpp3 0.4.0 ──\n",
      "✔ tibble    3.1.6     ✔ lubridate 1.8.0\n",
      "✔ dplyr     1.0.8     ✔ ggplot2   3.3.5\n",
      "✔ tidyr     1.2.0     ✔ fable     0.3.1\n",
      "── Conflicts ──────────────────────────────────────────────────────────────────────────────────────────────────────────── fpp3_conflicts ──\n",
      "✖ lubridate::date()     masks base::date()\n",
      "✖ dplyr::filter()       masks stats::filter()\n",
      "✖ tsibble::intersect()  masks base::intersect()\n",
      "✖ lubridate::interval() masks tsibble::interval()\n",
      "✖ dplyr::lag()          masks stats::lag()\n",
      "✖ tsibble::setdiff()    masks base::setdiff()\n",
      "✖ tsibble::union()      masks base::union()\n"
     ]
    }
   ],
   "source": [
    "library(fpp3)"
   ]
  },
  {
   "cell_type": "code",
   "execution_count": 16,
   "id": "0f43969b",
   "metadata": {},
   "outputs": [],
   "source": [
    "library(tsibbledata)\n",
    "library(tsibble)\n",
    "library(feasts)\n",
    "# library(tidyverse)"
   ]
  },
  {
   "cell_type": "code",
   "execution_count": 37,
   "id": "e789d7af",
   "metadata": {},
   "outputs": [],
   "source": [
    "write.table(ansett, file='ansett.csv')"
   ]
  },
  {
   "cell_type": "code",
   "execution_count": 39,
   "id": "aaa4ef46",
   "metadata": {},
   "outputs": [],
   "source": [
    "\n",
    "write.table(PBS, file='PBS.csv')"
   ]
  },
  {
   "cell_type": "code",
   "execution_count": 40,
   "id": "145edf14",
   "metadata": {},
   "outputs": [],
   "source": [
    "write.table(vic_elec, file='vic_elec.csv')\n"
   ]
  },
  {
   "cell_type": "code",
   "execution_count": 41,
   "id": "195ff472",
   "metadata": {},
   "outputs": [],
   "source": [
    "write.table(tourism, file='tourism.csv')"
   ]
  },
  {
   "cell_type": "code",
   "execution_count": 43,
   "id": "ada8a17b",
   "metadata": {},
   "outputs": [],
   "source": [
    "write.table(aus_production, file='aus_production.csv')"
   ]
  },
  {
   "cell_type": "code",
   "execution_count": 44,
   "id": "89ffc8d9",
   "metadata": {},
   "outputs": [],
   "source": [
    "\n",
    "write.table(gafa_stock, file='gafa_stock.csv')\n"
   ]
  },
  {
   "cell_type": "code",
   "execution_count": 45,
   "id": "e6f6745f",
   "metadata": {},
   "outputs": [],
   "source": [
    "\n",
    "write.table(global_economy, file='global_economy.csv')"
   ]
  },
  {
   "cell_type": "code",
   "execution_count": 46,
   "id": "61ccf299",
   "metadata": {
    "scrolled": true
   },
   "outputs": [],
   "source": [
    "write.table(aus_retail, file='aus_retail.csv')"
   ]
  },
  {
   "cell_type": "code",
   "execution_count": 47,
   "id": "0a4fd42e",
   "metadata": {},
   "outputs": [],
   "source": [
    "\n",
    "write.table(hh_budget, file='hh_budget.csv')"
   ]
  },
  {
   "cell_type": "code",
   "execution_count": 50,
   "id": "38db9cf4",
   "metadata": {},
   "outputs": [
    {
     "ename": "ERROR",
     "evalue": "Error in eval(expr, envir, enclos): object 'us_unemployment' not found\n",
     "output_type": "error",
     "traceback": [
      "Error in eval(expr, envir, enclos): object 'us_unemployment' not found\nTraceback:\n"
     ]
    }
   ],
   "source": [
    "us_unemployment"
   ]
  },
  {
   "cell_type": "code",
   "execution_count": null,
   "id": "ec62467c",
   "metadata": {},
   "outputs": [],
   "source": []
  }
 ],
 "metadata": {
  "kernelspec": {
   "display_name": "R [conda env:root] *",
   "language": "R",
   "name": "conda-root-r"
  },
  "language_info": {
   "codemirror_mode": "r",
   "file_extension": ".r",
   "mimetype": "text/x-r-source",
   "name": "R",
   "pygments_lexer": "r",
   "version": "3.6.1"
  }
 },
 "nbformat": 4,
 "nbformat_minor": 5
}
